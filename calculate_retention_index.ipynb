{
  "nbformat": 4,
  "nbformat_minor": 0,
  "metadata": {
    "colab": {
      "provenance": [],
      "authorship_tag": "ABX9TyMKHTdmNRursH9a7MTRFyYb",
      "include_colab_link": true
    },
    "kernelspec": {
      "name": "python3",
      "display_name": "Python 3"
    },
    "language_info": {
      "name": "python"
    }
  },
  "cells": [
    {
      "cell_type": "markdown",
      "metadata": {
        "id": "view-in-github",
        "colab_type": "text"
      },
      "source": [
        "<a href=\"https://colab.research.google.com/github/bribibel/labcalculations/blob/main/calculate_retention_index.ipynb\" target=\"_parent\"><img src=\"https://colab.research.google.com/assets/colab-badge.svg\" alt=\"Open In Colab\"/></a>"
      ]
    },
    {
      "cell_type": "markdown",
      "source": [
        "This program (made with lots of prodding of ChatGTP for full disclosure), calculates the retention index (RI) for a set of test compounds based on their retention times and those of a set of alkane standards.\n",
        "It uses a logarithmic interpolation between the two nearest alkanes to determine the RI for each compound. The results are displayed in a table and exported to a CSV file.\n",
        "\n",
        "Please ensure your input CSV files are formatted as follows:\n",
        "- Alkane data: two columns with or without headers.\n",
        "  * Column 1: Number of Carbon Atoms\n",
        "  * Column 2: Retention Time\n",
        "\n",
        "- Compound data: two columns with or without headers.\n",
        "  * Column 1: Compound Name\n",
        "  * Column 2: Retention Time\n",
        "\n",
        "The script will auto-detect and skip header rows if they do not contain numeric values."
      ],
      "metadata": {
        "id": "3Ne3A6lgSoYk"
      }
    },
    {
      "cell_type": "code",
      "source": [
        "import math\n",
        "import pandas as pd\n",
        "from google.colab import files\n",
        "import io\n",
        "from datetime import datetime\n",
        "\n",
        "# Function to calculate retention index\n",
        "def calculate_retention_index(rt, smaller_alkane, larger_alkane, alkane_rts):\n",
        "    n = smaller_alkane\n",
        "    log_rt = math.log10(rt)\n",
        "    log_rt_small = math.log10(alkane_rts[smaller_alkane])\n",
        "    log_rt_large = math.log10(alkane_rts[larger_alkane])\n",
        "    ri = 100 * (n + (log_rt - log_rt_small) / (log_rt_large - log_rt_small))\n",
        "    return round(ri)\n",
        "\n",
        "# Function to load CSV and skip header if necessary\n",
        "def load_csv_with_optional_skip(uploaded_file):\n",
        "    content = uploaded_file[next(iter(uploaded_file))]\n",
        "    for skip in [0, 1]:\n",
        "        df = pd.read_csv(io.BytesIO(content), skiprows=skip)\n",
        "        try:\n",
        "            pd.to_numeric(df.iloc[0, 1])\n",
        "            return df\n",
        "        except ValueError:\n",
        "            continue\n",
        "    raise ValueError(\"Failed to parse a valid table with numeric data.\")\n",
        "\n",
        "# Prompt user to upload files\n",
        "print(\"Please upload the alkane CSV file:\")\n",
        "uploaded_alkane = files.upload()\n",
        "df_alkanes = load_csv_with_optional_skip(uploaded_alkane)\n",
        "df_alkanes.columns = [col.strip() for col in df_alkanes.columns]\n",
        "alkane_rts = dict(zip(df_alkanes.iloc[:, 0], df_alkanes.iloc[:, 1]))\n",
        "\n",
        "print(\"Please upload the compound CSV file:\")\n",
        "uploaded_compound = files.upload()\n",
        "df_compounds = load_csv_with_optional_skip(uploaded_compound)\n",
        "df_compounds.columns = [col.strip() for col in df_compounds.columns]\n",
        "\n",
        "# Calculate retention index for each compound\n",
        "results = []\n",
        "sorted_alkanes = sorted(alkane_rts.items())\n",
        "for _, row in df_compounds.iterrows():\n",
        "    name, rt = row.iloc[0], row.iloc[1]\n",
        "    for i in range(len(sorted_alkanes) - 1):\n",
        "        n1, rt1 = sorted_alkanes[i]\n",
        "        n2, rt2 = sorted_alkanes[i + 1]\n",
        "        if rt1 <= rt <= rt2:\n",
        "            ri = calculate_retention_index(rt, n1, n2, alkane_rts)\n",
        "            results.append((name, rt, ri))\n",
        "            break\n",
        "\n",
        "# Output result as DataFrame\n",
        "df_result = pd.DataFrame(results, columns=[\"Compound\", \"Retention Time\", \"Retention Index\"])\n",
        "print(\"\\nRetention Index Table:\")\n",
        "display(df_result)\n",
        "\n",
        "# Export to CSV with date\n",
        "date_str = datetime.now().strftime(\"_%m%d%y\")\n",
        "output_filename = f\"retention_index_results{date_str}.csv\"\n",
        "df_result.to_csv(output_filename, index=False)\n",
        "files.download(output_filename)\n",
        "\n",
        "# df_result is available for further use\n"
      ],
      "metadata": {
        "id": "40RI3279JDIh"
      },
      "execution_count": null,
      "outputs": []
    }
  ]
}